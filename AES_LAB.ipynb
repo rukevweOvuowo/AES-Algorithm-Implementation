{
 "cells": [
  {
   "cell_type": "markdown",
   "id": "7d02532f",
   "metadata": {
    "id": "7d02532f"
   },
   "source": [
    "# TD3: AES algorithm"
   ]
  },
  {
   "cell_type": "markdown",
   "id": "468cfee5",
   "metadata": {
    "id": "468cfee5"
   },
   "source": [
    "The  Advanced  Encryption  Standard  (AES)  specifies  a  FIPS-approved  cryptographic  algorithm  that  can  be  used  to  protect  electronic  data.    The  AES  algorithm  is  a  symmetric   block   cipher   that   can   encrypt   (encipher)   and   decrypt   (decipher)   information.   Encryption  converts  data  to  an  unintelligible  form  called  ciphertext;    decrypting  the  ciphertext converts the data back into its original form, called plaintext.\n",
    "All the specification is available at: https://nvlpubs.nist.gov/nistpubs/fips/nist.fips.197.pdf"
   ]
  },
  {
   "cell_type": "markdown",
   "id": "52435ffb",
   "metadata": {
    "id": "52435ffb"
   },
   "source": [
    "# PART A: encryption"
   ]
  },
  {
   "cell_type": "markdown",
   "id": "5bae334e",
   "metadata": {
    "id": "5bae334e"
   },
   "source": [
    "# Round-keys generation\n",
    "\n",
    "The code below generates all keys for encryption and decryption."
   ]
  },
  {
   "cell_type": "code",
   "execution_count": null,
   "id": "443e3cb7",
   "metadata": {
    "id": "443e3cb7"
   },
   "outputs": [],
   "source": [
    "Sbox = (\n",
    "    0x63, 0x7C, 0x77, 0x7B, 0xF2, 0x6B, 0x6F, 0xC5, 0x30, 0x01, 0x67, 0x2B, 0xFE, 0xD7, 0xAB, 0x76,\n",
    "    0xCA, 0x82, 0xC9, 0x7D, 0xFA, 0x59, 0x47, 0xF0, 0xAD, 0xD4, 0xA2, 0xAF, 0x9C, 0xA4, 0x72, 0xC0,\n",
    "    0xB7, 0xFD, 0x93, 0x26, 0x36, 0x3F, 0xF7, 0xCC, 0x34, 0xA5, 0xE5, 0xF1, 0x71, 0xD8, 0x31, 0x15,\n",
    "    0x04, 0xC7, 0x23, 0xC3, 0x18, 0x96, 0x05, 0x9A, 0x07, 0x12, 0x80, 0xE2, 0xEB, 0x27, 0xB2, 0x75,\n",
    "    0x09, 0x83, 0x2C, 0x1A, 0x1B, 0x6E, 0x5A, 0xA0, 0x52, 0x3B, 0xD6, 0xB3, 0x29, 0xE3, 0x2F, 0x84,\n",
    "    0x53, 0xD1, 0x00, 0xED, 0x20, 0xFC, 0xB1, 0x5B, 0x6A, 0xCB, 0xBE, 0x39, 0x4A, 0x4C, 0x58, 0xCF,\n",
    "    0xD0, 0xEF, 0xAA, 0xFB, 0x43, 0x4D, 0x33, 0x85, 0x45, 0xF9, 0x02, 0x7F, 0x50, 0x3C, 0x9F, 0xA8,\n",
    "    0x51, 0xA3, 0x40, 0x8F, 0x92, 0x9D, 0x38, 0xF5, 0xBC, 0xB6, 0xDA, 0x21, 0x10, 0xFF, 0xF3, 0xD2,\n",
    "    0xCD, 0x0C, 0x13, 0xEC, 0x5F, 0x97, 0x44, 0x17, 0xC4, 0xA7, 0x7E, 0x3D, 0x64, 0x5D, 0x19, 0x73,\n",
    "    0x60, 0x81, 0x4F, 0xDC, 0x22, 0x2A, 0x90, 0x88, 0x46, 0xEE, 0xB8, 0x14, 0xDE, 0x5E, 0x0B, 0xDB,\n",
    "    0xE0, 0x32, 0x3A, 0x0A, 0x49, 0x06, 0x24, 0x5C, 0xC2, 0xD3, 0xAC, 0x62, 0x91, 0x95, 0xE4, 0x79,\n",
    "    0xE7, 0xC8, 0x37, 0x6D, 0x8D, 0xD5, 0x4E, 0xA9, 0x6C, 0x56, 0xF4, 0xEA, 0x65, 0x7A, 0xAE, 0x08,\n",
    "    0xBA, 0x78, 0x25, 0x2E, 0x1C, 0xA6, 0xB4, 0xC6, 0xE8, 0xDD, 0x74, 0x1F, 0x4B, 0xBD, 0x8B, 0x8A,\n",
    "    0x70, 0x3E, 0xB5, 0x66, 0x48, 0x03, 0xF6, 0x0E, 0x61, 0x35, 0x57, 0xB9, 0x86, 0xC1, 0x1D, 0x9E,\n",
    "    0xE1, 0xF8, 0x98, 0x11, 0x69, 0xD9, 0x8E, 0x94, 0x9B, 0x1E, 0x87, 0xE9, 0xCE, 0x55, 0x28, 0xDF,\n",
    "    0x8C, 0xA1, 0x89, 0x0D, 0xBF, 0xE6, 0x42, 0x68, 0x41, 0x99, 0x2D, 0x0F, 0xB0, 0x54, 0xBB, 0x16,\n",
    ")\n",
    "\n",
    "Rcon = (\n",
    "    0x00, 0x01, 0x02, 0x04, 0x08, 0x10, 0x20, 0x40,\n",
    "    0x80, 0x1B, 0x36, 0x6C, 0xD8, 0xAB, 0x4D, 0x9A,\n",
    "    0x2F, 0x5E, 0xBC, 0x63, 0xC6, 0x97, 0x35, 0x6A,\n",
    "    0xD4, 0xB3, 0x7D, 0xFA, 0xEF, 0xC5, 0x91, 0x39,\n",
    ")\n",
    "\n",
    "\n",
    "def text2matrix(text):\n",
    "    matrix = []\n",
    "    for i in range(16):\n",
    "        byte = (text >> (8 * (15 - i))) & 0xFF\n",
    "        if i % 4 == 0:\n",
    "            matrix.append([byte])\n",
    "        else:\n",
    "            matrix[int(i / 4)].append(byte)\n",
    "    return matrix\n",
    "\n",
    "def change_key(master_key):\n",
    "    round_keys = text2matrix(master_key)\n",
    "    print ('\\n original key : \\n', round_keys)\n",
    "    for i in range(4, 4 * 11):\n",
    "        round_keys.append([])\n",
    "        if i % 4 == 0:\n",
    "            byte = round_keys[i - 4][0]        \\\n",
    "                     ^ Sbox[round_keys[i - 1][1]]  \\\n",
    "                     ^ Rcon[int(i / 4)]\n",
    "            round_keys[i].append(byte)\n",
    "\n",
    "            for j in range(1, 4):\n",
    "                    byte = round_keys[i - 4][j]    \\\n",
    "                         ^ Sbox[round_keys[i - 1][(j + 1) % 4]]\n",
    "                    round_keys[i].append(byte)\n",
    "        else:\n",
    "            for j in range(4):\n",
    "                    byte = round_keys[i - 4][j]    \\\n",
    "                         ^ round_keys[i - 1][j]\n",
    "                    round_keys[i].append(byte)\n",
    "\n",
    "    print ('\\n cipher key : \\n', round_keys)\n",
    "    return(round_keys)"
   ]
  },
  {
   "cell_type": "markdown",
   "id": "8d442e21",
   "metadata": {
    "id": "8d442e21"
   },
   "source": [
    "Understand the proposed code and compare it with key generation of AES standart.\n",
    "\n",
    "**QUESTION:** Try different master keys and check the generated cypher keys for each round."
   ]
  },
  {
   "cell_type": "code",
   "execution_count": 2,
   "id": "a604b2d8",
   "metadata": {
    "colab": {
     "base_uri": "https://localhost:8080/"
    },
    "id": "a604b2d8",
    "outputId": "174a6929-6a47-4f5b-c2d6-1b8f1be0147d"
   },
   "outputs": [
    {
     "name": "stdout",
     "output_type": "stream",
     "text": [
      "\n",
      " master key : \n",
      " 0x2b7e151628aed2a6abf7158809cf4f3c\n",
      "\n",
      " original key : \n",
      " [[43, 126, 21, 22], [40, 174, 210, 166], [171, 247, 21, 136], [9, 207, 79, 60]]\n",
      "\n",
      " cipher key : \n",
      " [[43, 126, 21, 22], [40, 174, 210, 166], [171, 247, 21, 136], [9, 207, 79, 60], [160, 250, 254, 23], [136, 84, 44, 177], [35, 163, 57, 57], [42, 108, 118, 5], [242, 194, 149, 242], [122, 150, 185, 67], [89, 53, 128, 122], [115, 89, 246, 127], [61, 128, 71, 125], [71, 22, 254, 62], [30, 35, 126, 68], [109, 122, 136, 59], [239, 68, 165, 65], [168, 82, 91, 127], [182, 113, 37, 59], [219, 11, 173, 0], [212, 209, 198, 248], [124, 131, 157, 135], [202, 242, 184, 188], [17, 249, 21, 188], [109, 136, 163, 122], [17, 11, 62, 253], [219, 249, 134, 65], [202, 0, 147, 253], [78, 84, 247, 14], [95, 95, 201, 243], [132, 166, 79, 178], [78, 166, 220, 79], [234, 210, 115, 33], [181, 141, 186, 210], [49, 43, 245, 96], [127, 141, 41, 47], [172, 119, 102, 243], [25, 250, 220, 33], [40, 209, 41, 65], [87, 92, 0, 110], [208, 20, 249, 168], [201, 238, 37, 137], [225, 63, 12, 200], [182, 99, 12, 166]]\n"
     ]
    }
   ],
   "source": [
    "master_key = 0x2b7e151628aed2a6abf7158809cf4f3c\n",
    "print('\\n master key : \\n', hex(master_key))\n",
    "\n",
    "round_keys=change_key(master_key)"
   ]
  },
  {
   "cell_type": "markdown",
   "id": "JA5Pen9f3JKk",
   "metadata": {
    "id": "JA5Pen9f3JKk"
   },
   "source": [
    "### Other master keys generated"
   ]
  },
  {
   "cell_type": "code",
   "execution_count": 3,
   "id": "atsXL3xa1ryV",
   "metadata": {
    "colab": {
     "base_uri": "https://localhost:8080/"
    },
    "id": "atsXL3xa1ryV",
    "outputId": "6a80a7f1-fa93-4c12-d79c-5a3cf2ed3347"
   },
   "outputs": [
    {
     "name": "stdout",
     "output_type": "stream",
     "text": [
      "\n",
      " master key : \n",
      " d283bcb1fa7688fe02f7eb32b54da8f4\n",
      "\n",
      " original key : \n",
      " [[210, 131, 188, 177], [250, 118, 136, 254], [2, 247, 235, 50], [181, 77, 168, 244]]\n",
      "\n",
      " cipher key : \n",
      " [[210, 131, 188, 177], [250, 118, 136, 254], [2, 247, 235, 50], [181, 77, 168, 244], [48, 65, 3, 100], [202, 55, 139, 154], [200, 192, 96, 168], [125, 141, 200, 92], [111, 169, 73, 155], [165, 158, 194, 1], [109, 94, 162, 169], [16, 211, 106, 245], [13, 171, 175, 81], [168, 53, 109, 80], [197, 107, 207, 249], [213, 184, 165, 12], [105, 173, 81, 82], [193, 152, 60, 2], [4, 243, 243, 251], [209, 75, 86, 247], [202, 28, 57, 108], [11, 132, 5, 110], [15, 119, 246, 149], [222, 60, 160, 98], [1, 252, 147, 113], [10, 120, 150, 31], [5, 15, 96, 138], [219, 51, 192, 232], [130, 70, 8, 200], [136, 62, 158, 215], [141, 49, 254, 93], [86, 2, 62, 181], [117, 244, 221, 121], [253, 202, 67, 174], [112, 251, 189, 243], [38, 249, 131, 70], [247, 24, 135, 142], [10, 210, 196, 32], [122, 41, 121, 211], [92, 208, 250, 149], [177, 53, 173, 196], [187, 231, 105, 228], [193, 206, 16, 55], [157, 30, 234, 162]]\n"
     ]
    }
   ],
   "source": [
    "import os\n",
    "\n",
    "#16-byte (128-bit) random master key\n",
    "master_key2 = str(os.urandom(16).hex())\n",
    "\n",
    "print('\\n master key : \\n', master_key2)\n",
    "round_k=change_key(int(master_key2, 16))"
   ]
  },
  {
   "cell_type": "code",
   "execution_count": 4,
   "id": "HfLxzVe33Wxx",
   "metadata": {
    "colab": {
     "base_uri": "https://localhost:8080/"
    },
    "id": "HfLxzVe33Wxx",
    "outputId": "fa2217bc-24d0-41bf-d5d1-a0b1f8f8f256"
   },
   "outputs": [
    {
     "name": "stdout",
     "output_type": "stream",
     "text": [
      "\n",
      " master key : \n",
      " fc1acc96ea0547632d4c256c9b443fbc\n",
      "\n",
      " original key : \n",
      " [[252, 26, 204, 150], [234, 5, 71, 99], [45, 76, 37, 108], [155, 68, 63, 188]]\n",
      "\n",
      " cipher key : \n",
      " [[252, 26, 204, 150], [234, 5, 71, 99], [45, 76, 37, 108], [155, 68, 63, 188], [230, 111, 169, 130], [12, 106, 238, 225], [33, 38, 203, 141], [186, 98, 244, 49], [78, 208, 110, 118], [66, 186, 128, 151], [99, 156, 75, 26], [217, 254, 191, 43], [241, 216, 159, 67], [179, 98, 31, 212], [208, 254, 84, 206], [9, 0, 235, 229], [154, 49, 70, 66], [41, 83, 89, 150], [249, 173, 13, 88], [240, 173, 230, 189], [31, 191, 60, 206], [54, 236, 101, 88], [207, 65, 104, 0], [63, 236, 142, 189], [241, 166, 70, 187], [199, 74, 35, 227], [8, 11, 75, 227], [55, 231, 197, 94], [37, 0, 30, 33], [226, 74, 61, 194], [234, 65, 118, 33], [221, 166, 179, 127], [129, 109, 204, 224], [99, 39, 241, 34], [137, 102, 135, 3], [84, 192, 52, 124], [32, 117, 220, 192], [67, 82, 45, 226], [202, 52, 170, 225], [158, 244, 158, 157], [169, 126, 130, 203], [234, 44, 175, 41], [32, 24, 5, 200], [190, 236, 155, 85]]\n"
     ]
    }
   ],
   "source": [
    "import os\n",
    "\n",
    "#16-byte (128-bit) random master key\n",
    "master_key2 = str(os.urandom(16).hex())\n",
    "\n",
    "print('\\n master key : \\n', master_key2)\n",
    "round_ks=change_key(int(master_key2, 16))"
   ]
  },
  {
   "cell_type": "markdown",
   "id": "eaa6c11a",
   "metadata": {
    "id": "eaa6c11a"
   },
   "source": [
    "**QUESTION:** write a function that prints each round key in hexadecimal, is the number of keys correct?"
   ]
  },
  {
   "cell_type": "code",
   "execution_count": 5,
   "id": "6otEEYa8nTXf",
   "metadata": {
    "colab": {
     "base_uri": "https://localhost:8080/"
    },
    "id": "6otEEYa8nTXf",
    "outputId": "2fec97a4-87e0-49ba-b2f8-6e4d5ca95328",
    "scrolled": true
   },
   "outputs": [
    {
     "name": "stdout",
     "output_type": "stream",
     "text": [
      "The cipher key:\n",
      "\n",
      "\t 0x2b\t 0x28\t 0xab\t 0x9\n",
      "\t 0x7e\t 0xae\t 0xf7\t 0xcf\n",
      "\t 0x15\t 0xd2\t 0x15\t 0x4f\n",
      "\t 0x16\t 0xa6\t 0x88\t 0x3c\n",
      "\n",
      "Round key 1\n",
      "\t 0xa0\t 0x88\t 0x23\t 0x2a\n",
      "\t 0xfa\t 0x54\t 0xa3\t 0x6c\n",
      "\t 0xfe\t 0x2c\t 0x39\t 0x76\n",
      "\t 0x17\t 0xb1\t 0x39\t 0x5\n",
      "\n",
      "Round key 2\n",
      "\t 0xf2\t 0x7a\t 0x59\t 0x73\n",
      "\t 0xc2\t 0x96\t 0x35\t 0x59\n",
      "\t 0x95\t 0xb9\t 0x80\t 0xf6\n",
      "\t 0xf2\t 0x43\t 0x7a\t 0x7f\n",
      "\n",
      "Round key 3\n",
      "\t 0x3d\t 0x47\t 0x1e\t 0x6d\n",
      "\t 0x80\t 0x16\t 0x23\t 0x7a\n",
      "\t 0x47\t 0xfe\t 0x7e\t 0x88\n",
      "\t 0x7d\t 0x3e\t 0x44\t 0x3b\n",
      "\n",
      "Round key 4\n",
      "\t 0xef\t 0xa8\t 0xb6\t 0xdb\n",
      "\t 0x44\t 0x52\t 0x71\t 0xb\n",
      "\t 0xa5\t 0x5b\t 0x25\t 0xad\n",
      "\t 0x41\t 0x7f\t 0x3b\t 0x0\n",
      "\n",
      "Round key 5\n",
      "\t 0xd4\t 0x7c\t 0xca\t 0x11\n",
      "\t 0xd1\t 0x83\t 0xf2\t 0xf9\n",
      "\t 0xc6\t 0x9d\t 0xb8\t 0x15\n",
      "\t 0xf8\t 0x87\t 0xbc\t 0xbc\n",
      "\n",
      "Round key 6\n",
      "\t 0x6d\t 0x11\t 0xdb\t 0xca\n",
      "\t 0x88\t 0xb\t 0xf9\t 0x0\n",
      "\t 0xa3\t 0x3e\t 0x86\t 0x93\n",
      "\t 0x7a\t 0xfd\t 0x41\t 0xfd\n",
      "\n",
      "Round key 7\n",
      "\t 0x4e\t 0x5f\t 0x84\t 0x4e\n",
      "\t 0x54\t 0x5f\t 0xa6\t 0xa6\n",
      "\t 0xf7\t 0xc9\t 0x4f\t 0xdc\n",
      "\t 0xe\t 0xf3\t 0xb2\t 0x4f\n",
      "\n",
      "Round key 8\n",
      "\t 0xea\t 0xb5\t 0x31\t 0x7f\n",
      "\t 0xd2\t 0x8d\t 0x2b\t 0x8d\n",
      "\t 0x73\t 0xba\t 0xf5\t 0x29\n",
      "\t 0x21\t 0xd2\t 0x60\t 0x2f\n",
      "\n",
      "Round key 9\n",
      "\t 0xac\t 0x19\t 0x28\t 0x57\n",
      "\t 0x77\t 0xfa\t 0xd1\t 0x5c\n",
      "\t 0x66\t 0xdc\t 0x29\t 0x0\n",
      "\t 0xf3\t 0x21\t 0x41\t 0x6e\n",
      "\n",
      "Round key 10\n",
      "\t 0xd0\t 0xc9\t 0xe1\t 0xb6\n",
      "\t 0x14\t 0xee\t 0x3f\t 0x63\n",
      "\t 0xf9\t 0x25\t 0xc\t 0xc\n",
      "\t 0xa8\t 0x89\t 0xc8\t 0xa6\n"
     ]
    }
   ],
   "source": [
    "def convert2hex(round_keys):\n",
    "    print('The cipher key:\\n')\n",
    "    for i in range(4):\n",
    "        for j in range(4):\n",
    "            print('\\t',hex(round_keys[j][i]), end=\"\")\n",
    "        print('')\n",
    "\n",
    "    for k in range(1, int(len(round_keys)/4)):\n",
    "        print('\\nRound key', k)\n",
    "        for j in range(4):\n",
    "            for i in range(k*4, k*4 + 4):\n",
    "                print('\\t',hex(round_keys[i][j]), end=\"\")\n",
    "            print('')\n",
    "\n",
    "round_keys_hex = convert2hex(round_keys)"
   ]
  },
  {
   "cell_type": "markdown",
   "id": "238880b0",
   "metadata": {
    "id": "238880b0"
   },
   "source": [
    "# Encryption"
   ]
  },
  {
   "cell_type": "markdown",
   "id": "bcaa3a8f",
   "metadata": {
    "id": "bcaa3a8f"
   },
   "source": [
    "**QUESTION:** complete the three missing functions."
   ]
  },
  {
   "cell_type": "code",
   "execution_count": null,
   "id": "f3f6d94a",
   "metadata": {
    "id": "f3f6d94a"
   },
   "outputs": [],
   "source": [
    "# learnt from http://cs.ucsb.edu/~koc/cs178/projects/JT/aes.c\n",
    "xtime = lambda a: (((a << 1) ^ 0x1B) & 0xFF) if (a & 0x80) else (a << 1)\n",
    "\n",
    "\n",
    "def matrix2text(matrix):\n",
    "    text = 0\n",
    "    for i in range(4):\n",
    "        for j in range(4):\n",
    "            text |= (matrix[i][j] << (120 - 8 * (4 * i + j)))\n",
    "    return text\n",
    "\n",
    "def encrypt(plaintext):\n",
    "        plain_state = text2matrix(plaintext)\n",
    "\n",
    "        add_round_key(plain_state, round_keys[:4])\n",
    "\n",
    "        for i in range(1, 10):\n",
    "            round_encrypt(plain_state, round_keys[4 * i : 4 * (i + 1)])\n",
    "\n",
    "        sub_bytes(plain_state)\n",
    "        shift_rows(plain_state)\n",
    "        add_round_key(plain_state, round_keys[40:])\n",
    "\n",
    "        return matrix2text(plain_state)\n",
    "\n",
    "def add_round_key(s, k):\n",
    "    for i in range(4):\n",
    "        for j in range(4):\n",
    "            s[i][j] ^= k[i][j]\n",
    "\n",
    "\n",
    "def round_encrypt(state_matrix, key_matrix):\n",
    "    \"call to the four round operations\"\n",
    "    sub_bytes(state_matrix)\n",
    "    shift_rows(state_matrix)\n",
    "    mix_columns(state_matrix)\n",
    "    add_round_key(state_matrix, key_matrix)\n",
    "\n",
    "\n",
    "def sub_bytes(s):\n",
    "    \"build the sub_bytes transformation\"\n",
    "    row = len(s)\n",
    "    col = len(s[0])\n",
    "    for i in range(row):\n",
    "        for j in range(col):\n",
    "            s[i][j] = Sbox[s[i][j]]\n",
    "    return s\n",
    "\n",
    "def shift_rows(s):\n",
    "    s[0][1],s[1][1],s[2][1],s[3][1]=s[1][1],s[2][1],s[3][1],s[0][1]\n",
    "    s[0][2],s[1][2],s[2][2],s[3][2]=s[2][2],s[3][2],s[0][2],s[1][2]\n",
    "    s[0][3],s[1][3],s[2][3],s[3][3]=s[3][3],s[0][3],s[1][3],s[2][3]\n",
    "    return s\n",
    "\n",
    "\n",
    "def mix_single_column(a):\n",
    "        # please see Sec 4.1.2 in The Design of Rijndael\n",
    "        t = a[0] ^ a[1] ^ a[2] ^ a[3]\n",
    "        u = a[0]\n",
    "        a[0] ^= t ^ xtime(a[0] ^ a[1])\n",
    "        a[1] ^= t ^ xtime(a[1] ^ a[2])\n",
    "        a[2] ^= t ^ xtime(a[2] ^ a[3])\n",
    "        a[3] ^= t ^ xtime(a[3] ^ u)\n",
    "\n",
    "\n",
    "def mix_columns(s):\n",
    "        for i in range(4):\n",
    "            mix_single_column(s[i])"
   ]
  },
  {
   "cell_type": "markdown",
   "id": "26a08445",
   "metadata": {
    "id": "26a08445"
   },
   "source": [
    "**QUESTION:** Once the three missing functions are completed you should have a correct cipher."
   ]
  },
  {
   "cell_type": "code",
   "execution_count": 7,
   "id": "151a73ac",
   "metadata": {
    "colab": {
     "base_uri": "https://localhost:8080/"
    },
    "id": "151a73ac",
    "outputId": "32cad3d1-0957-426f-cdcd-00ec6eefa9d9"
   },
   "outputs": [
    {
     "name": "stdout",
     "output_type": "stream",
     "text": [
      "\n",
      " plaintext is: 0x3243f6a8885a308d313198a2e0370734\n",
      "\n",
      " ciphertext is: 0x3925841d02dc09fbdc118597196a0b32\n",
      "\n",
      " ciphering has been done correctly\n"
     ]
    }
   ],
   "source": [
    "plaintext = 0x3243f6a8885a308d313198a2e0370734\n",
    "print('\\n plaintext is:',hex(plaintext))\n",
    "\n",
    "ciphertext = encrypted = encrypt(plaintext)\n",
    "print('\\n ciphertext is:',hex(ciphertext))\n",
    "if(ciphertext == 0x3925841d02dc09fbdc118597196a0b32):\n",
    "    print('\\n ciphering has been done correctly')\n",
    "else:\n",
    "    print('\\n ciphering has a problem')"
   ]
  },
  {
   "cell_type": "markdown",
   "id": "3a0704d5",
   "metadata": {
    "id": "3a0704d5"
   },
   "source": [
    "# PART B: decryption"
   ]
  },
  {
   "cell_type": "markdown",
   "id": "37480416",
   "metadata": {
    "id": "37480416"
   },
   "source": [
    "**QUESTION:** based on what you have donne for encryption complete the three missing functions."
   ]
  },
  {
   "cell_type": "code",
   "execution_count": null,
   "id": "fe0668bd",
   "metadata": {
    "id": "fe0668bd"
   },
   "outputs": [],
   "source": [
    "InvSbox = (\n",
    "    0x52, 0x09, 0x6A, 0xD5, 0x30, 0x36, 0xA5, 0x38, 0xBF, 0x40, 0xA3, 0x9E, 0x81, 0xF3, 0xD7, 0xFB,\n",
    "    0x7C, 0xE3, 0x39, 0x82, 0x9B, 0x2F, 0xFF, 0x87, 0x34, 0x8E, 0x43, 0x44, 0xC4, 0xDE, 0xE9, 0xCB,\n",
    "    0x54, 0x7B, 0x94, 0x32, 0xA6, 0xC2, 0x23, 0x3D, 0xEE, 0x4C, 0x95, 0x0B, 0x42, 0xFA, 0xC3, 0x4E,\n",
    "    0x08, 0x2E, 0xA1, 0x66, 0x28, 0xD9, 0x24, 0xB2, 0x76, 0x5B, 0xA2, 0x49, 0x6D, 0x8B, 0xD1, 0x25,\n",
    "    0x72, 0xF8, 0xF6, 0x64, 0x86, 0x68, 0x98, 0x16, 0xD4, 0xA4, 0x5C, 0xCC, 0x5D, 0x65, 0xB6, 0x92,\n",
    "    0x6C, 0x70, 0x48, 0x50, 0xFD, 0xED, 0xB9, 0xDA, 0x5E, 0x15, 0x46, 0x57, 0xA7, 0x8D, 0x9D, 0x84,\n",
    "    0x90, 0xD8, 0xAB, 0x00, 0x8C, 0xBC, 0xD3, 0x0A, 0xF7, 0xE4, 0x58, 0x05, 0xB8, 0xB3, 0x45, 0x06,\n",
    "    0xD0, 0x2C, 0x1E, 0x8F, 0xCA, 0x3F, 0x0F, 0x02, 0xC1, 0xAF, 0xBD, 0x03, 0x01, 0x13, 0x8A, 0x6B,\n",
    "    0x3A, 0x91, 0x11, 0x41, 0x4F, 0x67, 0xDC, 0xEA, 0x97, 0xF2, 0xCF, 0xCE, 0xF0, 0xB4, 0xE6, 0x73,\n",
    "    0x96, 0xAC, 0x74, 0x22, 0xE7, 0xAD, 0x35, 0x85, 0xE2, 0xF9, 0x37, 0xE8, 0x1C, 0x75, 0xDF, 0x6E,\n",
    "    0x47, 0xF1, 0x1A, 0x71, 0x1D, 0x29, 0xC5, 0x89, 0x6F, 0xB7, 0x62, 0x0E, 0xAA, 0x18, 0xBE, 0x1B,\n",
    "    0xFC, 0x56, 0x3E, 0x4B, 0xC6, 0xD2, 0x79, 0x20, 0x9A, 0xDB, 0xC0, 0xFE, 0x78, 0xCD, 0x5A, 0xF4,\n",
    "    0x1F, 0xDD, 0xA8, 0x33, 0x88, 0x07, 0xC7, 0x31, 0xB1, 0x12, 0x10, 0x59, 0x27, 0x80, 0xEC, 0x5F,\n",
    "    0x60, 0x51, 0x7F, 0xA9, 0x19, 0xB5, 0x4A, 0x0D, 0x2D, 0xE5, 0x7A, 0x9F, 0x93, 0xC9, 0x9C, 0xEF,\n",
    "    0xA0, 0xE0, 0x3B, 0x4D, 0xAE, 0x2A, 0xF5, 0xB0, 0xC8, 0xEB, 0xBB, 0x3C, 0x83, 0x53, 0x99, 0x61,\n",
    "    0x17, 0x2B, 0x04, 0x7E, 0xBA, 0x77, 0xD6, 0x26, 0xE1, 0x69, 0x14, 0x63, 0x55, 0x21, 0x0C, 0x7D,\n",
    ")\n",
    "\n",
    "\n",
    "def decrypt(ciphertext):\n",
    "        cipher_state = text2matrix(ciphertext)\n",
    "\n",
    "        add_round_key(cipher_state, round_keys[40:])\n",
    "        inv_shift_rows(cipher_state)\n",
    "        inv_sub_bytes(cipher_state)\n",
    "\n",
    "        for i in range(9, 0, -1):\n",
    "            round_decrypt(cipher_state, round_keys[4 * i : 4 * (i + 1)])\n",
    "\n",
    "        add_round_key(cipher_state, round_keys[:4])\n",
    "\n",
    "        return matrix2text(cipher_state)\n",
    "\n",
    "\n",
    "def round_decrypt(state_matrix, key_matrix):\n",
    "    add_round_key(state_matrix, key_matrix)\n",
    "    inv_mix_columns(state_matrix)\n",
    "    j = inv_shift_rows(state_matrix)\n",
    "    inv_sub_bytes(state_matrix)\n",
    "    pass\n",
    "\n",
    "def inv_sub_bytes(s):\n",
    "    row = len(s)\n",
    "    col = len(s[0])\n",
    "    for i in range(row):\n",
    "        for j in range(col):\n",
    "            s[i][j] = InvSbox[s[i][j]]\n",
    "    return s\n",
    "\n",
    "\n",
    "def inv_shift_rows(s):\n",
    "    s[0][1],s[1][1], s[2][1], s[3][1] = s[3][1], s[0][1], s[1][1], s[2][1]\n",
    "    s[0][2],s[1][2], s[2][2], s[3][2] = s[2][2], s[3][2], s[0][2], s[1][2]\n",
    "    s[0][3],s[1][3], s[2][3], s[3][3] = s[1][3], s[2][3], s[3][3], s[0][3]\n",
    "    return s\n",
    "\n",
    "def inv_mix_columns(s):\n",
    "        # see Sec 4.1.3 in The Design of Rijndael\n",
    "        for i in range(4):\n",
    "            u = xtime(xtime(s[i][0] ^ s[i][2]))\n",
    "            v = xtime(xtime(s[i][1] ^ s[i][3]))\n",
    "            s[i][0] ^= u\n",
    "            s[i][1] ^= v\n",
    "            s[i][2] ^= u\n",
    "            s[i][3] ^= v\n",
    "\n",
    "        mix_columns(s)"
   ]
  },
  {
   "cell_type": "markdown",
   "id": "433ed613",
   "metadata": {
    "id": "433ed613"
   },
   "source": [
    "**QUESTION:** Once the three missing functions are completed you should have a correct deciphering."
   ]
  },
  {
   "cell_type": "code",
   "execution_count": 9,
   "id": "f0417d2e",
   "metadata": {
    "colab": {
     "base_uri": "https://localhost:8080/"
    },
    "id": "f0417d2e",
    "outputId": "1667ae57-264d-495a-9e89-6692ac30afe9"
   },
   "outputs": [
    {
     "name": "stdout",
     "output_type": "stream",
     "text": [
      "plaintext was: 0x3243f6a8885a308d313198a2e0370734\n",
      "decryption returns: 0x3243f6a8885a308d313198a2e0370734\n"
     ]
    }
   ],
   "source": [
    "decrypted = decrypt(ciphertext)\n",
    "print('plaintext was:', hex(plaintext))\n",
    "\n",
    "print('decryption returns:', hex(decrypted))"
   ]
  },
  {
   "cell_type": "markdown",
   "id": "4c7ce71e",
   "metadata": {
    "id": "4c7ce71e"
   },
   "source": [
    "# PART C: Using a library"
   ]
  },
  {
   "cell_type": "markdown",
   "id": "96e67302",
   "metadata": {
    "id": "96e67302"
   },
   "source": [
    "Have a look a the crypto library from [`PyCryptodome`](https://pycryptodome.readthedocs.io/en/latest/src/introduction.html)"
   ]
  },
  {
   "cell_type": "code",
   "execution_count": 10,
   "id": "d6146031",
   "metadata": {
    "colab": {
     "base_uri": "https://localhost:8080/"
    },
    "id": "d6146031",
    "outputId": "b7117ede-5651-4fd1-c92d-112b79787f12"
   },
   "outputs": [
    {
     "name": "stdout",
     "output_type": "stream",
     "text": [
      "Requirement already satisfied: pycryptodome in c:\\users\\pc\\anaconda3\\lib\\site-packages (3.19.0)\n",
      "Note: you may need to restart the kernel to use updated packages.\n"
     ]
    }
   ],
   "source": [
    "pip install pycryptodome"
   ]
  },
  {
   "cell_type": "markdown",
   "id": "818683d8",
   "metadata": {
    "id": "818683d8"
   },
   "source": [
    "**QUESTION:** Execute the following code."
   ]
  },
  {
   "cell_type": "code",
   "execution_count": 11,
   "id": "8113a542",
   "metadata": {
    "colab": {
     "base_uri": "https://localhost:8080/"
    },
    "id": "8113a542",
    "outputId": "23a05d55-41af-436a-b8b7-40e4269e5c9a"
   },
   "outputs": [
    {
     "name": "stdout",
     "output_type": "stream",
     "text": [
      "data is:\n",
      "0x8a\n",
      "0x6d\n",
      "0x4f\n",
      "0xa1\n",
      "0xfb\n",
      "0xa8\n",
      "0xf1\n",
      "0x18\n",
      "0x80\n",
      "0x4c\n",
      "0x49\n",
      "0xa2\n",
      "0x1e\n",
      "0x4b\n",
      "0x7\n",
      "0x31\n",
      "key is:\n",
      "0xac\n",
      "0xe5\n",
      "0xda\n",
      "0x4e\n",
      "0xcc\n",
      "0x44\n",
      "0xda\n",
      "0xb7\n",
      "0xd2\n",
      "0x46\n",
      "0x98\n",
      "0xfd\n",
      "0x78\n",
      "0x97\n",
      "0x80\n",
      "0x4\n",
      "ciphetext is:\n",
      "0x73\n",
      "0x11\n",
      "0x47\n",
      "0xc\n",
      "0xf8\n",
      "0x73\n",
      "0xf6\n",
      "0x33\n",
      "0x1c\n",
      "0xf0\n",
      "0xaa\n",
      "0xce\n",
      "0x13\n",
      "0x3c\n",
      "0x50\n",
      "0xc3\n"
     ]
    }
   ],
   "source": [
    "from Crypto.Cipher import AES\n",
    "from Crypto.Random import get_random_bytes\n",
    "\n",
    "data = get_random_bytes(16)\n",
    "print('data is:')\n",
    "for i in range(0,16):\n",
    "    print(hex(data[i]))\n",
    "print('key is:')\n",
    "key = get_random_bytes(16)\n",
    "for i in range(0,16):\n",
    "    print(hex(key[i]))\n",
    "cipher = AES.new(key, AES.MODE_ECB)\n",
    "ciphertext = cipher.encrypt(data)\n",
    "\n",
    "print('ciphetext is:')\n",
    "for i in range(0,16):\n",
    "    print(hex(ciphertext[i]))\n"
   ]
  },
  {
   "cell_type": "markdown",
   "id": "42fc7aad",
   "metadata": {
    "id": "42fc7aad"
   },
   "source": [
    "**QUESTION:** What can you say about this code? compare the execution with the previous code you have written. Do you obtain the same result?"
   ]
  },
  {
   "cell_type": "code",
   "execution_count": 12,
   "id": "164105d7",
   "metadata": {
    "colab": {
     "base_uri": "https://localhost:8080/",
     "height": 457
    },
    "id": "164105d7",
    "outputId": "03e78b59-8b11-4f95-c7cc-3951918e5843"
   },
   "outputs": [
    {
     "name": "stdout",
     "output_type": "stream",
     "text": [
      "\n",
      " master key : \n",
      " 0x2b7e151628aed2a6abf7158809cf4f3c\n",
      "\n",
      " original key : \n",
      " [[43, 126, 21, 22], [40, 174, 210, 166], [171, 247, 21, 136], [9, 207, 79, 60]]\n",
      "\n",
      " cipher key : \n",
      " [[43, 126, 21, 22], [40, 174, 210, 166], [171, 247, 21, 136], [9, 207, 79, 60], [160, 250, 254, 23], [136, 84, 44, 177], [35, 163, 57, 57], [42, 108, 118, 5], [242, 194, 149, 242], [122, 150, 185, 67], [89, 53, 128, 122], [115, 89, 246, 127], [61, 128, 71, 125], [71, 22, 254, 62], [30, 35, 126, 68], [109, 122, 136, 59], [239, 68, 165, 65], [168, 82, 91, 127], [182, 113, 37, 59], [219, 11, 173, 0], [212, 209, 198, 248], [124, 131, 157, 135], [202, 242, 184, 188], [17, 249, 21, 188], [109, 136, 163, 122], [17, 11, 62, 253], [219, 249, 134, 65], [202, 0, 147, 253], [78, 84, 247, 14], [95, 95, 201, 243], [132, 166, 79, 178], [78, 166, 220, 79], [234, 210, 115, 33], [181, 141, 186, 210], [49, 43, 245, 96], [127, 141, 41, 47], [172, 119, 102, 243], [25, 250, 220, 33], [40, 209, 41, 65], [87, 92, 0, 110], [208, 20, 249, 168], [201, 238, 37, 137], [225, 63, 12, 200], [182, 99, 12, 166]]\n",
      "\n",
      " plaintext is: 0xe24ed3aa8cf0e9a23882526defaaa369\n",
      "\n",
      " ciphertext is: 0x9c8a48506b19f9bf380ece3b577638e0\n",
      "plaintext was: 0xe24ed3aa8cf0e9a23882526defaaa369\n",
      "decryption returns: 0xe24ed3aa8cf0e9a23882526defaaa369\n"
     ]
    }
   ],
   "source": [
    "master_key_ = 0x73e2307f5fb90c915943afa53326ebce #use the same key as the execution above\n",
    "\n",
    "print('\\n master key : \\n', hex(master_key))\n",
    "\n",
    "round_keys=change_key(master_key)\n",
    "\n",
    "plaintext = 0xe24ed3aa8cf0e9a23882526defaaa369 #use the same plaintext as the execution above\n",
    "print('\\n plaintext is:',hex(plaintext))\n",
    "\n",
    "ciphertext = encrypted_ = encrypt(plaintext)\n",
    "print('\\n ciphertext is:',hex(ciphertext))\n",
    "\n",
    "decrypted = decrypt(ciphertext)\n",
    "print('plaintext was:', hex(plaintext))\n",
    "print('decryption returns:', hex(decrypted))"
   ]
  },
  {
   "cell_type": "markdown",
   "id": "cbe19460",
   "metadata": {
    "id": "cbe19460"
   },
   "source": [
    "**QUESTION:** Try other modes of operation from the library and comment the results."
   ]
  },
  {
   "cell_type": "code",
   "execution_count": 13,
   "id": "c5d93dba",
   "metadata": {
    "id": "c5d93dba"
   },
   "outputs": [
    {
     "name": "stdout",
     "output_type": "stream",
     "text": [
      "data is:\n",
      "0x19\n",
      "0xee\n",
      "0x15\n",
      "0xe8\n",
      "0x52\n",
      "0xa8\n",
      "0x3\n",
      "0x8c\n",
      "0x13\n",
      "0xa9\n",
      "0x34\n",
      "0xe6\n",
      "0x3f\n",
      "0x32\n",
      "0xeb\n",
      "0xf4\n",
      "key is:\n",
      "0xc9\n",
      "0xb\n",
      "0x13\n",
      "0x1f\n",
      "0x27\n",
      "0x20\n",
      "0x30\n",
      "0x68\n",
      "0x7a\n",
      "0xc\n",
      "0x40\n",
      "0x57\n",
      "0xa\n",
      "0x18\n",
      "0xb3\n",
      "0x92\n",
      "ciphetext is:\n",
      "0x61\n",
      "0xa7\n",
      "0x96\n",
      "0xe\n",
      "0xd6\n",
      "0x2b\n",
      "0xb4\n",
      "0xe7\n",
      "0x63\n",
      "0xc8\n",
      "0xf\n",
      "0x8\n",
      "0x31\n",
      "0x73\n",
      "0x72\n",
      "0x37\n"
     ]
    }
   ],
   "source": [
    "from Crypto.Cipher import AES\n",
    "from Crypto.Random import get_random_bytes\n",
    "\n",
    "data = get_random_bytes(16)\n",
    "print('data is:')\n",
    "for i in range(0,16):\n",
    "    print(hex(data[i]))\n",
    "print('key is:')\n",
    "key = get_random_bytes(16)\n",
    "for i in range(0,16):\n",
    "    print(hex(key[i]))\n",
    "cipher = AES.new(key, AES.MODE_CBC)\n",
    "ciphertext = cipher.encrypt(data)\n",
    "\n",
    "print('ciphetext is:')\n",
    "for i in range(0,16):\n",
    "    print(hex(ciphertext[i]))"
   ]
  },
  {
   "cell_type": "code",
   "execution_count": 14,
   "id": "DtgCPt0BCSRY",
   "metadata": {
    "id": "DtgCPt0BCSRY"
   },
   "outputs": [
    {
     "name": "stdout",
     "output_type": "stream",
     "text": [
      "data is:\n",
      "0x47\n",
      "0xec\n",
      "0x6\n",
      "0x3a\n",
      "0x6f\n",
      "0xaf\n",
      "0xb1\n",
      "0x81\n",
      "0xfd\n",
      "0x3f\n",
      "0x23\n",
      "0x2\n",
      "0x51\n",
      "0xf8\n",
      "0x59\n",
      "0x57\n",
      "key is:\n",
      "0xb6\n",
      "0xf4\n",
      "0x65\n",
      "0xd0\n",
      "0x48\n",
      "0xaa\n",
      "0x46\n",
      "0x6b\n",
      "0x9b\n",
      "0x41\n",
      "0x18\n",
      "0xb0\n",
      "0x5f\n",
      "0x14\n",
      "0x9a\n",
      "0xf6\n",
      "ciphetext is:\n",
      "0xf5\n",
      "0x61\n",
      "0xa7\n",
      "0x14\n",
      "0x8e\n",
      "0x5c\n",
      "0x54\n",
      "0x39\n",
      "0x34\n",
      "0xf1\n",
      "0xf9\n",
      "0x6f\n",
      "0x1\n",
      "0x86\n",
      "0xea\n",
      "0x45\n"
     ]
    }
   ],
   "source": [
    "from Crypto.Cipher import AES\n",
    "from Crypto.Random import get_random_bytes\n",
    "\n",
    "data = get_random_bytes(16)\n",
    "print('data is:')\n",
    "for i in range(0,16):\n",
    "    print(hex(data[i]))\n",
    "print('key is:')\n",
    "key = get_random_bytes(16)\n",
    "for i in range(0,16):\n",
    "    print(hex(key[i]))\n",
    "cipher = AES.new(key, AES.MODE_EAX)\n",
    "ciphertext = cipher.encrypt(data)\n",
    "\n",
    "print('ciphetext is:')\n",
    "for i in range(0,16):\n",
    "    print(hex(ciphertext[i]))"
   ]
  }
 ],
 "metadata": {
  "colab": {
   "provenance": []
  },
  "kernelspec": {
   "display_name": "Python 3 (ipykernel)",
   "language": "python",
   "name": "python3"
  },
  "language_info": {
   "codemirror_mode": {
    "name": "ipython",
    "version": 3
   },
   "file_extension": ".py",
   "mimetype": "text/x-python",
   "name": "python",
   "nbconvert_exporter": "python",
   "pygments_lexer": "ipython3",
   "version": "3.9.7"
  }
 },
 "nbformat": 4,
 "nbformat_minor": 5
}
